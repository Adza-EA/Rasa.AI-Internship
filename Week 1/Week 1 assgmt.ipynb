{
  "metadata": {
    "kernelspec": {
      "name": "python",
      "display_name": "Python (Pyodide)",
      "language": "python"
    },
    "language_info": {
      "codemirror_mode": {
        "name": "python",
        "version": 3
      },
      "file_extension": ".py",
      "mimetype": "text/x-python",
      "name": "python",
      "nbconvert_exporter": "python",
      "pygments_lexer": "ipython3",
      "version": "3.8"
    }
  },
  "nbformat_minor": 5,
  "nbformat": 4,
  "cells": [
    {
      "id": "c9ee138b-f907-4057-b0e1-5c03188de11d",
      "cell_type": "markdown",
      "source": "# Assignment 1",
      "metadata": {}
    },
    {
      "id": "8ed5e8f1-3398-4fef-8c04-c1435d420eaa",
      "cell_type": "code",
      "source": "#student marks\nstudent_marks = [['Name', ['A', 'B', 'C', 'D', 'E']],\n                 ['Ankit', [41, 34, 45, 55, 63]],\n                 ['Aravind', [42, 23, 34, 44, 53]],\n                 ['Lakshay', [32, 23, 13, 54, 67]],\n                 ['Gyan', [23, 82, 23, 64, 34]],\n                 ['Pranav', [21, 23, 25, 56, 56]]]",
      "metadata": {
        "trusted": true
      },
      "outputs": [],
      "execution_count": 1
    },
    {
      "id": "7bae2b98-a262-4fb3-a3fb-51761c3dc7c6",
      "cell_type": "code",
      "source": "student_marks",
      "metadata": {
        "trusted": true
      },
      "outputs": [
        {
          "execution_count": 2,
          "output_type": "execute_result",
          "data": {
            "text/plain": "[['Name', ['A', 'B', 'C', 'D', 'E']],\n ['Ankit', [41, 34, 45, 55, 63]],\n ['Aravind', [42, 23, 34, 44, 53]],\n ['Lakshay', [32, 23, 13, 54, 67]],\n ['Gyan', [23, 82, 23, 64, 34]],\n ['Pranav', [21, 23, 25, 56, 56]]]"
          },
          "metadata": {}
        }
      ],
      "execution_count": 2
    },
    {
      "id": "67ae3208-5d8c-4336-8f03-c016f8193606",
      "cell_type": "code",
      "source": "subjects = student_marks[0][1]\nstudents = student_marks[1:]",
      "metadata": {
        "trusted": true
      },
      "outputs": [],
      "execution_count": 3
    },
    {
      "id": "77ed4e0b-69d1-4f69-8142-4dd42613ef10",
      "cell_type": "code",
      "source": "subjects",
      "metadata": {
        "trusted": true
      },
      "outputs": [
        {
          "execution_count": 4,
          "output_type": "execute_result",
          "data": {
            "text/plain": "['A', 'B', 'C', 'D', 'E']"
          },
          "metadata": {}
        }
      ],
      "execution_count": 4
    },
    {
      "id": "29feb3d5-03d0-4c92-8898-d777405da55c",
      "cell_type": "code",
      "source": "students",
      "metadata": {
        "trusted": true
      },
      "outputs": [
        {
          "execution_count": 5,
          "output_type": "execute_result",
          "data": {
            "text/plain": "[['Ankit', [41, 34, 45, 55, 63]],\n ['Aravind', [42, 23, 34, 44, 53]],\n ['Lakshay', [32, 23, 13, 54, 67]],\n ['Gyan', [23, 82, 23, 64, 34]],\n ['Pranav', [21, 23, 25, 56, 56]]]"
          },
          "metadata": {}
        }
      ],
      "execution_count": 5
    },
    {
      "id": "d707383d-ca3a-464f-ae21-511e1d584e4f",
      "cell_type": "code",
      "source": "B = []\nfor i in range(len(students)):\n    B.append(students[i][1][1])\nprint(\"1. Highest scorer in subject B:\", max(B))",
      "metadata": {
        "trusted": true
      },
      "outputs": [
        {
          "name": "stdout",
          "output_type": "stream",
          "text": "1. Highest scorer in subject B: 82\n"
        }
      ],
      "execution_count": 6
    },
    {
      "id": "b7d1d0d0-2da4-4abf-bf9e-77dbf04b7aab",
      "cell_type": "code",
      "source": "average_c = sum([a[1][2] for a in students]) / len(students)\nprint(\"2. Average marks in subject C:\", round(average_c, 2))",
      "metadata": {
        "trusted": true
      },
      "outputs": [
        {
          "name": "stdout",
          "output_type": "stream",
          "text": "2. Average marks in subject C: 28.0\n"
        }
      ],
      "execution_count": 7
    },
    {
      "id": "aa10b118-bc7d-4f3a-8ccf-3468e235c933",
      "cell_type": "code",
      "source": "total = [sum(x[1]) for x in students]\nhighest_total = [max(total),students[total.index(max(total))][0]]\ntotal_subjects = len(subjects)\npercentage = (int(highest_total[0])/ (total_subjects * 100)) * 100\nprint(\"3. Highest percentage scorer (all subjects):\", highest_total[1], \"-\", round(percentage, 2), \"%\")",
      "metadata": {
        "trusted": true
      },
      "outputs": [
        {
          "name": "stdout",
          "output_type": "stream",
          "text": "3. Highest percentage scorer (all subjects): Ankit - 47.6 %\n"
        }
      ],
      "execution_count": 8
    },
    {
      "id": "7e5e819d-1a3f-4339-a59a-87303cacc785",
      "cell_type": "code",
      "source": "top4_percentages = []\nfor s in students:\n    top4_percentages.append(sum(sorted(s[1], reverse=True)[:4]) / (4 * 100) * 100)\ntop_top4 = [students[top4_percentages.index(max(top4_percentages))][0],max(top4_percentages)]\nprint(\"4. Highest percentage with top-4 subjects:\", top_top4[0], \"-\", round(top_top4[1], 3), \"%\")",
      "metadata": {
        "trusted": true
      },
      "outputs": [
        {
          "name": "stdout",
          "output_type": "stream",
          "text": "4. Highest percentage with top-4 subjects: Ankit - 51.0 %\n"
        }
      ],
      "execution_count": 9
    },
    {
      "id": "11670246-723f-4eba-af0b-e8826ee36ac2",
      "cell_type": "markdown",
      "source": "# Assignment 2",
      "metadata": {}
    },
    {
      "id": "f3ac7c68-cf95-45cd-b647-3de089421596",
      "cell_type": "code",
      "source": "#1. Write a Python program to print the first N numbers in the Fibonacci series.\n#Define a function for Fibonacci Series\ndef fib(n):\n    a = 0\n    b = 1\n    num = 0\n    print(\"Fibonacci series:\")\n    while num < n:\n        print(a)\n        a,b = b,a+b\n        num +=1\nfib(20)",
      "metadata": {
        "trusted": true
      },
      "outputs": [
        {
          "name": "stdout",
          "output_type": "stream",
          "text": "Fibonacci series:\n0\n1\n1\n2\n3\n5\n8\n13\n21\n34\n55\n89\n144\n233\n377\n610\n987\n1597\n2584\n4181\n"
        }
      ],
      "execution_count": 10
    },
    {
      "id": "438a4315-a002-4736-9b14-85851dcd5b1d",
      "cell_type": "code",
      "source": "#2. Write a function that checks if a given string or number is a palindrome.\ndef palindrome(value):\n    str1 = str(value)\n    value_str = str1.lower()\n    if value_str == value_str[::-1]:\n        return True\n    else:\n        return False",
      "metadata": {
        "trusted": true
      },
      "outputs": [],
      "execution_count": 28
    },
    {
      "id": "9f1972b3-b1fd-4966-9149-d799d089bc68",
      "cell_type": "code",
      "source": "palindrome(\"hello\")",
      "metadata": {
        "trusted": true
      },
      "outputs": [
        {
          "execution_count": 29,
          "output_type": "execute_result",
          "data": {
            "text/plain": "False"
          },
          "metadata": {}
        }
      ],
      "execution_count": 29
    },
    {
      "id": "b291437a-9e56-485f-882d-291df4f1ffd5",
      "cell_type": "code",
      "source": "palindrome(\"Ana\")",
      "metadata": {
        "trusted": true
      },
      "outputs": [
        {
          "execution_count": 30,
          "output_type": "execute_result",
          "data": {
            "text/plain": "True"
          },
          "metadata": {}
        }
      ],
      "execution_count": 30
    },
    {
      "id": "322d5d28-f673-4191-af3a-7314f2c138f5",
      "cell_type": "code",
      "source": "palindrome(12321)",
      "metadata": {
        "trusted": true
      },
      "outputs": [
        {
          "execution_count": 31,
          "output_type": "execute_result",
          "data": {
            "text/plain": "True"
          },
          "metadata": {}
        }
      ],
      "execution_count": 31
    },
    {
      "id": "cbe88b38-ffaa-48bd-91c8-6169dcb498f2",
      "cell_type": "code",
      "source": "#3. Write a program to compute the factorial of a number using both recursion and iteration.\n# Factorial using recursion\ndef factorial_recursive(n):\n    if n < 0:\n        return \"Factorial is not defined for negative numbers.\"\n    elif n == 0 or n == 1:\n        return 1\n    else:\n        return n * factorial_recursive(n - 1)",
      "metadata": {
        "trusted": true
      },
      "outputs": [],
      "execution_count": 15
    },
    {
      "id": "98aa789f-22ef-4982-8954-b0f6c3118218",
      "cell_type": "code",
      "source": "# Factorial using iteration\ndef factorial_iterative(n):\n    if n < 0:\n        return \"Factorial is not defined for negative numbers.\"\n    elif n == (0,1):\n        return 1\n    else:\n        fact = 1\n        for i in range(2, n + 1):\n            fact *= i\n        return fact",
      "metadata": {
        "trusted": true
      },
      "outputs": [],
      "execution_count": 16
    },
    {
      "id": "a4f587ad-470f-4049-86de-8866b5193963",
      "cell_type": "code",
      "source": "num = 7\nfact_rec = factorial_recursive(num)\nprint(f\"Factorial of {num} (recursion): {fact_rec}\")",
      "metadata": {
        "trusted": true
      },
      "outputs": [
        {
          "name": "stdout",
          "output_type": "stream",
          "text": "Factorial of 7 (recursion): 5040\n"
        }
      ],
      "execution_count": 17
    },
    {
      "id": "107ed548-db1d-4a2c-9761-388e08afc961",
      "cell_type": "code",
      "source": "num = -1\nfact_itr = factorial_iterative(num)\nprint(f\"Factorial of {num} (iteration): {fact_itr}\")",
      "metadata": {
        "trusted": true
      },
      "outputs": [
        {
          "name": "stdout",
          "output_type": "stream",
          "text": "Factorial of -1 (iteration): Factorial is not defined for negative numbers.\n"
        }
      ],
      "execution_count": 18
    },
    {
      "id": "4a072234-d339-4e04-bcdd-b36634f91b19",
      "cell_type": "code",
      "source": "#4. Write a program to check if a number is prime, and print all primes between 1 and 100.\ndef is_prime(n):\n    if n <= 1:\n        return False\n    for i in range(2, int(n**0.5) + 1):\n        if n % i == 0:\n            return False\n    return True\n\nnum = 37\nif is_prime(num):\n    print(f\"{num} is a prime number.\")\nelse:\n    print(f\"{num} is not a prime number.\")\n\nprint(\"Prime numbers between 1 and 100:\")\nfor n in range(1, 101):\n    if is_prime(n):\n        print(n)\n",
      "metadata": {
        "trusted": true
      },
      "outputs": [
        {
          "name": "stdout",
          "output_type": "stream",
          "text": "37 is a prime number.\nPrime numbers between 1 and 100:\n2\n3\n5\n7\n11\n13\n17\n19\n23\n29\n31\n37\n41\n43\n47\n53\n59\n61\n67\n71\n73\n79\n83\n89\n97\n"
        }
      ],
      "execution_count": 27
    },
    {
      "id": "fc477580-0265-4e66-9fb4-1eb1f90115ff",
      "cell_type": "code",
      "source": "#5. Write a function to check if a number is an Armstrong number.\ndef is_armstrong(num):\n    # Convert the number to a string to easily iterate over digits\n    digits = str(num)\n    n = len(digits)  # Number of digits\n    total = sum(int(digit) ** n for digit in digits)\n    return total == num\n\n# Example usage:\nnumber = 407\nif is_armstrong(number):\n    print(f\"{number} is an Armstrong number.\")\nelse:\n    print(f\"{number} is not an Armstrong number.\")\n",
      "metadata": {
        "trusted": true
      },
      "outputs": [
        {
          "name": "stdout",
          "output_type": "stream",
          "text": "407 is an Armstrong number.\n"
        }
      ],
      "execution_count": 20
    },
    {
      "id": "b3e178e7-2862-451a-8649-95e1b234a91e",
      "cell_type": "code",
      "source": "#6. Write a Python program to reverse a number and also calculate the sum of its digits.\n# Get input from user\nnum = 889024\n\n# Store original number for display\noriginal_num = num\n\n# Initialize variables\nreversed_num = 0\ndigit_sum = 0\n\nwhile num > 0:\n    digit = num % 10             # Get the last digit\n    reversed_num = reversed_num * 10 + digit  # Build the reversed number\n    digit_sum += digit           # Add to sum\n    num //= 10                   # Remove the last digit\n\nprint(f\"Reversed number: {reversed_num}\")\nprint(f\"Sum of digits: {digit_sum}\")\n",
      "metadata": {
        "trusted": true
      },
      "outputs": [
        {
          "name": "stdout",
          "output_type": "stream",
          "text": "Reversed number: 420988\nSum of digits: 31\n"
        }
      ],
      "execution_count": 21
    },
    {
      "id": "5264fb5f-1ec0-44b8-b366-53374327a23b",
      "cell_type": "code",
      "source": "#7. Given a list of numbers, write a program to find the second largest number.\nnumbers = [12, 45, 1, 67, 34, 67, 23]\n\n# Remove duplicates to handle repeated largest numbers\nunique_numbers = list(set(numbers))\n\nif len(unique_numbers) < 2:\n    print(\"There is no second largest number.\")\nelse:\n    unique_numbers.sort(reverse=True)\n    print(\"Second largest number is:\", unique_numbers[1])\n",
      "metadata": {
        "trusted": true
      },
      "outputs": [
        {
          "name": "stdout",
          "output_type": "stream",
          "text": "Second largest number is: 45\n"
        }
      ],
      "execution_count": 22
    },
    {
      "id": "45889c40-94b1-4fa7-a7c9-ea2300c3df24",
      "cell_type": "code",
      "source": "#8. Write a Python function to count the number of vowels and consonants in a given string.\ndef count_vowels_consonants(s):\n    vowels = ['a', 'e', 'i', 'o', 'u', 'A', 'E', 'I', 'O', 'U']\n    count_vowels = 0\n    count_consonants = 0\n    \n    for char in s:\n        if char.isalpha():  # Check if the character is a letter\n            if char in vowels:\n                count_vowels += 1\n            else:\n                count_consonants += 1\n    \n    return count_vowels, count_consonants\n\n# Example usage\ninput_string = \"Hello\"\nvowels_count, consonants_count = count_vowels_consonants(input_string)\nprint(f\"Number of vowels: {vowels_count}\")\nprint(f\"Number of consonants: {consonants_count}\")\n",
      "metadata": {
        "trusted": true
      },
      "outputs": [
        {
          "name": "stdout",
          "output_type": "stream",
          "text": "Number of vowels: 2\nNumber of consonants: 3\n"
        }
      ],
      "execution_count": 23
    },
    {
      "id": "a57a6a78-8e26-49e5-9ad8-150015e8808d",
      "cell_type": "code",
      "source": "#9. Given a list of N-1 elements from a range 1 to N, find the missing number.\ndef find_missing_number(arr, N):\n    total = N * (N + 1) // 2\n    return total - sum(arr)\n\n# Example usage:\nN = 9\narr = [1, 2, 4, 5, 6, 7, 8, 9]\nmissing = find_missing_number(arr, N)\nprint(\"The missing number is:\", missing)\n",
      "metadata": {
        "trusted": true
      },
      "outputs": [
        {
          "name": "stdout",
          "output_type": "stream",
          "text": "The missing number is: 3\n"
        }
      ],
      "execution_count": 24
    },
    {
      "id": "6f0585ec-5795-466a-86f9-cdd677202d20",
      "cell_type": "code",
      "source": "#10. Write a program to check if two strings are anagrams of each other.\ndef are_anagrams(str1, str2):\n    # Remove spaces and convert to lowercase for accurate comparison\n    str1 = str1.replace(\" \", \"\").lower()\n    str2 = str2.replace(\" \", \"\").lower()\n    return sorted(str1) == sorted(str2)\n\n# Example usage\ns1 = \"loot\"\ns2 = \"Tool\"\n\nif are_anagrams(s1, s2):\n    print(\"The strings are anagrams.\")\nelse:\n    print(\"The strings are not anagrams.\")\n",
      "metadata": {
        "trusted": true
      },
      "outputs": [
        {
          "name": "stdout",
          "output_type": "stream",
          "text": "The strings are anagrams.\n"
        }
      ],
      "execution_count": 25
    },
    {
      "id": "2bc6e5e8-0e29-477f-8489-c4edfbc75455",
      "cell_type": "code",
      "source": "",
      "metadata": {
        "trusted": true
      },
      "outputs": [],
      "execution_count": null
    },
    {
      "id": "2922d291-697b-48e1-9807-5d81e4adb4fe",
      "cell_type": "code",
      "source": "",
      "metadata": {
        "trusted": true
      },
      "outputs": [],
      "execution_count": null
    },
    {
      "id": "093fa270-04b8-4265-9aee-fa9364a1f0e6",
      "cell_type": "code",
      "source": "",
      "metadata": {
        "trusted": true
      },
      "outputs": [],
      "execution_count": null
    },
    {
      "id": "465144e5-6a78-40ba-9f7c-9fb9a48b24e0",
      "cell_type": "code",
      "source": "",
      "metadata": {
        "trusted": true
      },
      "outputs": [],
      "execution_count": null
    }
  ]
}