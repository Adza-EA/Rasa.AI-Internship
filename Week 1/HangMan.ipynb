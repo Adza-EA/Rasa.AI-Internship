{
 "cells": [
  {
   "cell_type": "code",
   "execution_count": null,
   "id": "3759eff3-8be9-489c-a875-93516a16acc2",
   "metadata": {},
   "outputs": [],
   "source": []
  },
  {
   "cell_type": "code",
   "execution_count": 1,
   "id": "3af1dc70-07db-4c66-baac-7fe9ba7bf083",
   "metadata": {},
   "outputs": [],
   "source": [
    "import random\n",
    "\n",
    "def choose_word(word_list):\n",
    "    return random.choice(word_list).lower()\n",
    "\n",
    "def display_hangman(tries):\n",
    "    stages = [\n",
    "        \"\"\"\n",
    "           -----\n",
    "           |   |\n",
    "           O   |\n",
    "          /|\\\\  |\n",
    "          / \\\\  |\n",
    "               |\n",
    "        ---------\n",
    "        \"\"\",\n",
    "        \"\"\"\n",
    "           -----\n",
    "           |   |\n",
    "           O   |\n",
    "          /|\\\\  |\n",
    "          /    |\n",
    "               |\n",
    "        ---------\n",
    "        \"\"\",\n",
    "        \"\"\"\n",
    "           -----\n",
    "           |   |\n",
    "           O   |\n",
    "          /|\\\\  |\n",
    "               |\n",
    "               |\n",
    "        ---------\n",
    "        \"\"\",\n",
    "        \"\"\"\n",
    "           -----\n",
    "           |   |\n",
    "           O   |\n",
    "          /|   |\n",
    "               |\n",
    "               |\n",
    "        ---------\n",
    "        \"\"\",\n",
    "        \"\"\"\n",
    "           -----\n",
    "           |   |\n",
    "           O   |\n",
    "           |   |\n",
    "               |\n",
    "               |\n",
    "        ---------\n",
    "        \"\"\",\n",
    "        \"\"\"\n",
    "           -----\n",
    "           |   |\n",
    "           O   |\n",
    "               |\n",
    "               |\n",
    "               |\n",
    "        ---------\n",
    "        \"\"\",\n",
    "        \"\"\"\n",
    "           -----\n",
    "           |   |\n",
    "               |\n",
    "               |\n",
    "               |\n",
    "               |\n",
    "        ---------\n",
    "        \"\"\"\n",
    "    ]\n",
    "    return stages[tries]\n",
    "\n",
    "def play_hangman(word):\n",
    "    word_completion = \"_\" * len(word)\n",
    "    guessed = False\n",
    "    guessed_letters = []\n",
    "    guessed_words = []\n",
    "    tries = 6\n",
    "\n",
    "    print(\"Let's play Hangman!\")\n",
    "    print(display_hangman(tries))\n",
    "    print(word_completion)\n",
    "    print(\"\\n\")\n",
    "\n",
    "    while not guessed and tries > 0:\n",
    "        guess = input(\"Guess a letter or word: \").lower()\n",
    "        if len(guess) == 1 and guess.isalpha():\n",
    "            if guess in guessed_letters:\n",
    "                print(\"You already guessed the letter:\", guess)\n",
    "            elif guess not in word:\n",
    "                print(\"Wrong guess:\", guess)\n",
    "                tries -= 1\n",
    "                guessed_letters.append(guess)\n",
    "            else:\n",
    "                print(\"Correct guess:\", guess)\n",
    "                guessed_letters.append(guess)\n",
    "                word_as_list = list(word_completion)\n",
    "                indices = [i for i, letter in enumerate(word) if letter == guess]\n",
    "                for index in indices:\n",
    "                    word_as_list[index] = guess\n",
    "                word_completion = \"\".join(word_as_list)\n",
    "                if \"_\" not in word_completion:\n",
    "                    guessed = True\n",
    "        elif len(guess) == len(word) and guess.isalpha():\n",
    "            if guess in guessed_words:\n",
    "                print(\"You already guessed the word:\", guess)\n",
    "            elif guess != word:\n",
    "                print(\"Wrong guess:\", guess)\n",
    "                tries -= 1\n",
    "                guessed_words.append(guess)\n",
    "            else:\n",
    "                guessed = True\n",
    "                word_completion = word\n",
    "        else:\n",
    "            print(\"Invalid input.\")\n",
    "        \n",
    "        print(display_hangman(tries))\n",
    "        print(word_completion)\n",
    "        print(\"\\n\")\n",
    "\n",
    "    if guessed:\n",
    "        print(\"Congrats! You guessed the word:\", word)\n",
    "    else:\n",
    "        print(\"Sorry, you lost. The word was:\", word)\n"
   ]
  },
  {
   "cell_type": "code",
   "execution_count": 2,
   "id": "8762eef9-c3bc-4a81-90bf-3f62e01df10a",
   "metadata": {},
   "outputs": [
    {
     "name": "stdout",
     "output_type": "stream",
     "text": [
      "Let's play Hangman!\n",
      "\n",
      "           -----\n",
      "           |   |\n",
      "               |\n",
      "               |\n",
      "               |\n",
      "               |\n",
      "        ---------\n",
      "        \n",
      "_______\n",
      "\n",
      "\n"
     ]
    },
    {
     "name": "stdin",
     "output_type": "stream",
     "text": [
      "Guess a letter or word:  e\n"
     ]
    },
    {
     "name": "stdout",
     "output_type": "stream",
     "text": [
      "Wrong guess: e\n",
      "\n",
      "           -----\n",
      "           |   |\n",
      "           O   |\n",
      "               |\n",
      "               |\n",
      "               |\n",
      "        ---------\n",
      "        \n",
      "_______\n",
      "\n",
      "\n"
     ]
    },
    {
     "name": "stdin",
     "output_type": "stream",
     "text": [
      "Guess a letter or word:  a\n"
     ]
    },
    {
     "name": "stdout",
     "output_type": "stream",
     "text": [
      "Wrong guess: a\n",
      "\n",
      "           -----\n",
      "           |   |\n",
      "           O   |\n",
      "           |   |\n",
      "               |\n",
      "               |\n",
      "        ---------\n",
      "        \n",
      "_______\n",
      "\n",
      "\n"
     ]
    },
    {
     "name": "stdin",
     "output_type": "stream",
     "text": [
      "Guess a letter or word:  i\n"
     ]
    },
    {
     "name": "stdout",
     "output_type": "stream",
     "text": [
      "Correct guess: i\n",
      "\n",
      "           -----\n",
      "           |   |\n",
      "           O   |\n",
      "           |   |\n",
      "               |\n",
      "               |\n",
      "        ---------\n",
      "        \n",
      "_i__i__\n",
      "\n",
      "\n"
     ]
    },
    {
     "name": "stdin",
     "output_type": "stream",
     "text": [
      "Guess a letter or word:  n\n"
     ]
    },
    {
     "name": "stdout",
     "output_type": "stream",
     "text": [
      "Correct guess: n\n",
      "\n",
      "           -----\n",
      "           |   |\n",
      "           O   |\n",
      "           |   |\n",
      "               |\n",
      "               |\n",
      "        ---------\n",
      "        \n",
      "_i__in_\n",
      "\n",
      "\n"
     ]
    },
    {
     "name": "stdin",
     "output_type": "stream",
     "text": [
      "Guess a letter or word:  g\n"
     ]
    },
    {
     "name": "stdout",
     "output_type": "stream",
     "text": [
      "Correct guess: g\n",
      "\n",
      "           -----\n",
      "           |   |\n",
      "           O   |\n",
      "           |   |\n",
      "               |\n",
      "               |\n",
      "        ---------\n",
      "        \n",
      "_i__ing\n",
      "\n",
      "\n"
     ]
    },
    {
     "name": "stdin",
     "output_type": "stream",
     "text": [
      "Guess a letter or word:  s\n"
     ]
    },
    {
     "name": "stdout",
     "output_type": "stream",
     "text": [
      "Correct guess: s\n",
      "\n",
      "           -----\n",
      "           |   |\n",
      "           O   |\n",
      "           |   |\n",
      "               |\n",
      "               |\n",
      "        ---------\n",
      "        \n",
      "_issing\n",
      "\n",
      "\n"
     ]
    },
    {
     "name": "stdin",
     "output_type": "stream",
     "text": [
      "Guess a letter or word:  m\n"
     ]
    },
    {
     "name": "stdout",
     "output_type": "stream",
     "text": [
      "Correct guess: m\n",
      "\n",
      "           -----\n",
      "           |   |\n",
      "           O   |\n",
      "           |   |\n",
      "               |\n",
      "               |\n",
      "        ---------\n",
      "        \n",
      "missing\n",
      "\n",
      "\n",
      "Congrats! You guessed the word: missing\n"
     ]
    }
   ],
   "source": [
    "# Run the game\n",
    "word_to_guess = choose_word(statistics_words)\n",
    "play_hangman(word_to_guess)"
   ]
  },
  {
   "cell_type": "code",
   "execution_count": null,
   "id": "038dcea7-08eb-4ef4-bf13-08053d04c576",
   "metadata": {},
   "outputs": [],
   "source": []
  }
 ],
 "metadata": {
  "kernelspec": {
   "display_name": "Python 3 (ipykernel)",
   "language": "python",
   "name": "python3"
  },
  "language_info": {
   "codemirror_mode": {
    "name": "ipython",
    "version": 3
   },
   "file_extension": ".py",
   "mimetype": "text/x-python",
   "name": "python",
   "nbconvert_exporter": "python",
   "pygments_lexer": "ipython3",
   "version": "3.11.4"
  }
 },
 "nbformat": 4,
 "nbformat_minor": 5
}
