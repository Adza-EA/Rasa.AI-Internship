{
 "cells": [
  {
   "cell_type": "markdown",
   "id": "daade429",
   "metadata": {},
   "source": [
    "# 📘 Internship Assignment: Object-Oriented Programming (OOP) in Python"
   ]
  },
  {
   "cell_type": "markdown",
   "id": "08da185b",
   "metadata": {},
   "source": [
    "**Week:** 2  \n",
    "**Topic:** OOP in Python  \n",
    "**Objective:** Understand the fundamentals of Object-Oriented Programming (OOP) and apply OOP principles."
   ]
  },
  {
   "cell_type": "markdown",
   "id": "bbbb9d52",
   "metadata": {},
   "source": [
    "## ✅ Learning Outcomes"
   ]
  },
  {
   "cell_type": "markdown",
   "id": "8dea7225",
   "metadata": {},
   "source": [
    "- Define and use classes and objects.\n",
    "- Apply encapsulation using methods and private attributes.\n",
    "- Understand and implement inheritance and polymorphism.\n",
    "- Use constructors (`__init__`) and destructors (`__del__`).\n",
    "- Override methods and understand `super()`."
   ]
  },
  {
   "cell_type": "markdown",
   "id": "3997e47d",
   "metadata": {},
   "source": [
    "## 🔹 Part 1: Define a Class and Create Objects"
   ]
  },
  {
   "cell_type": "code",
   "execution_count": null,
   "id": "b33182a8",
   "metadata": {},
   "outputs": [],
   "source": [
    "class Student:\n",
    "    def __init__(self, name, roll):\n",
    "        self.name = name\n",
    "        self.roll = roll\n",
    "\n",
    "    def display(self):\n",
    "        print(f\"Name: {self.name}, Roll: {self.roll}\")\n",
    "\n",
    "s1 = Student(\"Anita\", 101)\n",
    "s1.display()"
   ]
  },
  {
   "cell_type": "markdown",
   "id": "84f21c7a",
   "metadata": {},
   "source": [
    "## 🔹 Part 2: Encapsulation - Private Attributes and Methods"
   ]
  },
  {
   "cell_type": "code",
   "execution_count": null,
   "id": "f185dfb8",
   "metadata": {},
   "outputs": [],
   "source": [
    "class Account:\n",
    "    def __init__(self, owner, balance):\n",
    "        self.owner = owner\n",
    "        self.__balance = balance\n",
    "\n",
    "    def deposit(self, amount):\n",
    "        self.__balance += amount\n",
    "\n",
    "    def get_balance(self):\n",
    "        return self.__balance\n",
    "\n",
    "acc = Account(\"Ravi\", 1000)\n",
    "acc.deposit(500)\n",
    "print(acc.get_balance())"
   ]
  },
  {
   "cell_type": "markdown",
   "id": "d1a67c7d",
   "metadata": {},
   "source": [
    "## 🔹 Part 3: Inheritance"
   ]
  },
  {
   "cell_type": "code",
   "execution_count": null,
   "id": "8ba2310f",
   "metadata": {},
   "outputs": [],
   "source": [
    "class Animal:\n",
    "    def speak(self):\n",
    "        print(\"Animal sound\")\n",
    "\n",
    "class Dog(Animal):\n",
    "    def speak(self):\n",
    "        print(\"Bark\")\n",
    "\n",
    "d = Dog()\n",
    "d.speak()"
   ]
  },
  {
   "cell_type": "markdown",
   "id": "7f717690",
   "metadata": {},
   "source": [
    "## 🔹 Part 4: Polymorphism and Method Overriding"
   ]
  },
  {
   "cell_type": "code",
   "execution_count": null,
   "id": "03a2eb61",
   "metadata": {},
   "outputs": [],
   "source": [
    "class Shape:\n",
    "    def area(self):\n",
    "        pass\n",
    "\n",
    "class Circle(Shape):\n",
    "    def area(self):\n",
    "        print(\"Area of Circle\")\n",
    "\n",
    "class Square(Shape):\n",
    "    def area(self):\n",
    "        print(\"Area of Square\")\n",
    "\n",
    "for shape in (Circle(), Square()):\n",
    "    shape.area()"
   ]
  },
  {
   "cell_type": "markdown",
   "id": "0480916e",
   "metadata": {},
   "source": [
    "## 🔹 Part 5: Constructor and Destructor"
   ]
  },
  {
   "cell_type": "code",
   "execution_count": null,
   "id": "59729b7e",
   "metadata": {},
   "outputs": [],
   "source": [
    "class Demo:\n",
    "    def __init__(self):\n",
    "        print(\"Object created\")\n",
    "\n",
    "    def __del__(self):\n",
    "        print(\"Object deleted\")\n",
    "\n",
    "obj = Demo()\n",
    "del obj"
   ]
  }
 ],
 "metadata": {},
 "nbformat": 4,
 "nbformat_minor": 5
}
