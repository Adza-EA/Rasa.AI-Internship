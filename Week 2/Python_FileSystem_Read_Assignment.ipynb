{
 "cells": [
  {
   "cell_type": "markdown",
   "id": "35f54d91",
   "metadata": {},
   "source": [
    "# 📘 Internship Assignment: Python File System - Reading Files"
   ]
  },
  {
   "cell_type": "markdown",
   "id": "8f02b278",
   "metadata": {},
   "source": [
    "**Week:** 1  \n",
    "**Topic:** File Reading in Python  \n",
    "**Objective:** Learn how to read data from files using Python."
   ]
  },
  {
   "cell_type": "markdown",
   "id": "d7855aaf",
   "metadata": {},
   "source": [
    "## ✅ Learning Outcomes"
   ]
  },
  {
   "cell_type": "markdown",
   "id": "3cee5587",
   "metadata": {},
   "source": [
    "- Open and read text files in Python.\n",
    "- Use different read methods (`read()`, `readline()`, `readlines()`).\n",
    "- Iterate over file content line-by-line.\n",
    "- Handle file paths using `os` and `pathlib`."
   ]
  },
  {
   "cell_type": "markdown",
   "id": "c8d5896a",
   "metadata": {},
   "source": [
    "## 🔹 Part 1: Basic File Reading"
   ]
  },
  {
   "cell_type": "code",
   "execution_count": null,
   "id": "0ae09d85",
   "metadata": {},
   "outputs": [],
   "source": [
    "with open(\"sample.txt\", \"r\") as file:\n",
    "    content = file.read()\n",
    "    print(content)"
   ]
  },
  {
   "cell_type": "markdown",
   "id": "5160683a",
   "metadata": {},
   "source": [
    "## 🔹 Part 2: Reading Line by Line"
   ]
  },
  {
   "cell_type": "code",
   "execution_count": null,
   "id": "36ba05a9",
   "metadata": {},
   "outputs": [],
   "source": [
    "with open(\"sample.txt\", \"r\") as file:\n",
    "    line = file.readline()\n",
    "    while line:\n",
    "        print(line.strip())\n",
    "        line = file.readline()"
   ]
  },
  {
   "cell_type": "markdown",
   "id": "96b781b8",
   "metadata": {},
   "source": [
    "## 🔹 Part 3: Read All Lines into a List"
   ]
  },
  {
   "cell_type": "code",
   "execution_count": null,
   "id": "0afe4fa0",
   "metadata": {},
   "outputs": [],
   "source": [
    "with open(\"sample.txt\", \"r\") as file:\n",
    "    lines = file.readlines()\n",
    "    print(\"Total lines:\", len(lines))\n",
    "    print(lines)"
   ]
  },
  {
   "cell_type": "markdown",
   "id": "ee6ab704",
   "metadata": {},
   "source": [
    "## 🔹 Part 4: Iterate Over File"
   ]
  },
  {
   "cell_type": "code",
   "execution_count": null,
   "id": "a1339b32",
   "metadata": {},
   "outputs": [],
   "source": [
    "with open(\"sample.txt\", \"r\") as file:\n",
    "    for index, line in enumerate(file, 1):\n",
    "        print(f\"Line {index}: {line.strip()}\")"
   ]
  },
  {
   "cell_type": "markdown",
   "id": "cd681455",
   "metadata": {},
   "source": [
    "## 🔹 Part 5: Working with Paths"
   ]
  },
  {
   "cell_type": "code",
   "execution_count": null,
   "id": "80271915",
   "metadata": {},
   "outputs": [],
   "source": [
    "from pathlib import Path\n",
    "file_path = Path(\"sample.txt\")\n",
    "if file_path.exists():\n",
    "    print(\"File exists. Size:\", file_path.stat().st_size, \"bytes\")\n",
    "else:\n",
    "    print(\"File does not exist.\")"
   ]
  }
 ],
 "metadata": {},
 "nbformat": 4,
 "nbformat_minor": 5
}
