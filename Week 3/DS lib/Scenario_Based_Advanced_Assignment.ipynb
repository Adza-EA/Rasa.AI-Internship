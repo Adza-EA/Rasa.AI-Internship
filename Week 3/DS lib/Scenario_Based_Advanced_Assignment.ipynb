{
  "cells": [
    {
      "cell_type": "markdown",
      "id": "f385a213",
      "metadata": {
        "id": "f385a213"
      },
      "source": [
        "# 📘 Scenario-Based Advanced Internship Assignment"
      ]
    },
    {
      "cell_type": "markdown",
      "id": "b305b3b4",
      "metadata": {
        "id": "b305b3b4"
      },
      "source": [
        "## 🔁 Introduction\n",
        "This assignment contains real-world analytics problems using `pandas`, `numpy`, `matplotlib`, and `seaborn`. You are expected to write code for each scenario and explain your findings."
      ]
    },
    {
      "cell_type": "markdown",
      "id": "c9448482",
      "metadata": {
        "id": "c9448482"
      },
      "source": [
        "---\n",
        "## 🔷 Scenario 1: Product Performance Analysis"
      ]
    },
    {
      "cell_type": "markdown",
      "id": "3d76f081",
      "metadata": {
        "id": "3d76f081"
      },
      "source": [
        "### Problem Statement\n",
        "Identify top contributing product categories and find underperformers despite high pricing."
      ]
    },
    {
      "cell_type": "markdown",
      "id": "90f6d70b",
      "metadata": {
        "id": "90f6d70b"
      },
      "source": [
        "### 🧠 Instructions:\n",
        "1. Compute total revenue by `Item_Type`\n",
        "2. Sort and calculate cumulative revenue %\n",
        "3. Identify high MRP but low sales products"
      ]
    },
    {
      "cell_type": "markdown",
      "id": "d14a47aa",
      "metadata": {
        "id": "d14a47aa"
      },
      "source": [
        "### ✍️ Your Task:"
      ]
    },
    {
      "cell_type": "code",
      "execution_count": null,
      "id": "4bcc0b07",
      "metadata": {
        "id": "4bcc0b07"
      },
      "outputs": [],
      "source": [
        "import pandas as pd\n",
        "import numpy as np\n",
        "import matplotlib.pyplot as plt\n",
        "import seaborn as sns\n",
        "\n",
        "sns.set(style='whitegrid')\n",
        "%matplotlib inline\n",
        "\n",
        "# Load data\n",
        "df = pd.read_csv('/content/sample_data/big_mart_sales.csv')\n",
        "df.head()"
      ]
    },
    {
      "cell_type": "code",
      "execution_count": null,
      "id": "8dadd05a",
      "metadata": {
        "id": "8dadd05a"
      },
      "outputs": [],
      "source": [
        "# Compute total revenue by Item_Type\n",
        "revenue_by_type = df.groupby('Item_Type')['Item_Outlet_Sales'].sum().sort_values(ascending=False)\n",
        "\n",
        "# Calculate cumulative revenue percentage\n",
        "revenue_by_type = revenue_by_type.reset_index()\n",
        "revenue_by_type['Cumulative Revenue'] = revenue_by_type['Item_Outlet_Sales'].cumsum()\n",
        "revenue_by_type['Cumulative Percentage'] = 100 * revenue_by_type['Cumulative Revenue'] / revenue_by_type['Item_Outlet_Sales'].sum()\n",
        "\n",
        "# Identify top contributors (Pareto principle: ~80% of revenue from ~20% of categories)\n",
        "pareto_threshold = 80\n",
        "top_contributors = revenue_by_type[revenue_by_type['Cumulative Percentage'] <= pareto_threshold]\n",
        "\n",
        "# Plot Pareto chart\n",
        "plt.figure(figsize=(12, 6))\n",
        "bars = plt.bar(top_contributors['Item_Type'], top_contributors['Item_Outlet_Sales'], color='skyblue', label='Revenue')\n",
        "plt.plot(top_contributors['Item_Type'], top_contributors['Cumulative Percentage'], color='red', marker='o', label='Cumulative %')\n",
        "plt.axhline(y=pareto_threshold, color='green', linestyle='--', label=f'{pareto_threshold}% Threshold')\n",
        "plt.xticks(rotation=45)\n",
        "plt.ylabel('Revenue')\n",
        "plt.xlabel('Item Type')\n",
        "plt.title('Pareto Analysis of Revenue by Item Type')\n",
        "plt.legend()\n",
        "plt.tight_layout()\n",
        "plt.show()\n",
        "\n",
        "# Identify underperformers: High MRP (top 25%) but low sales (bottom 25%)\n",
        "high_mrp_threshold = df['Item_MRP'].quantile(0.75)\n",
        "low_sales_threshold = df['Item_Outlet_Sales'].quantile(0.25)\n",
        "underperformers = df[(df['Item_MRP'] > high_mrp_threshold) & (df['Item_Outlet_Sales'] < low_sales_threshold)]\n",
        "\n",
        "# Display top contributors and underperformers\n",
        "print(\"Top Contributing Item Types (Pareto Principle):\")\n",
        "print(top_contributors[['Item_Type', 'Item_Outlet_Sales', 'Cumulative Percentage']])\n",
        "print(\"\\nUnderperforming Products (High MRP, Low Sales):\")\n",
        "print(underperformers[['Item_Identifier', 'Item_Type', 'Item_MRP', 'Item_Outlet_Sales']].head())"
      ]
    },
    {
      "cell_type": "markdown",
      "id": "22e539d8",
      "metadata": {
        "id": "22e539d8"
      },
      "source": [
        "---\n",
        "## 🔷 Scenario 2: Seasonal Outlet Insights"
      ]
    },
    {
      "cell_type": "markdown",
      "id": "fd910a7b",
      "metadata": {
        "id": "fd910a7b"
      },
      "source": [
        "### Problem Statement\n",
        "Simulate monthly performance of outlets and visualize trends."
      ]
    },
    {
      "cell_type": "markdown",
      "id": "01d38ae4",
      "metadata": {
        "id": "01d38ae4"
      },
      "source": [
        "### 🧠 Instructions:\n",
        "1. Add random `Month` column\n",
        "2. Group by `Outlet_Identifier` and `Month`\n",
        "3. Plot monthly sales trend"
      ]
    },
    {
      "cell_type": "markdown",
      "id": "78331ca6",
      "metadata": {
        "id": "78331ca6"
      },
      "source": [
        "### ✍️ Your Task:"
      ]
    },
    {
      "cell_type": "code",
      "execution_count": null,
      "id": "d44b0093",
      "metadata": {
        "id": "d44b0093"
      },
      "outputs": [],
      "source": [
        "# Simulate monthly data by adding a random Month column (1 to 12)\n",
        "np.random.seed(42)  # For reproducibility\n",
        "df['Month'] = np.random.randint(1, 13, size=len(df))\n",
        "\n",
        "# Group by Outlet_Identifier and Month, compute total sales\n",
        "monthly_sales = df.groupby(['Outlet_Identifier', 'Month'])['Item_Outlet_Sales'].sum().unstack()\n",
        "\n",
        "# Plot monthly sales trend for each outlet\n",
        "plt.figure(figsize=(14, 8))\n",
        "for outlet in monthly_sales.index:\n",
        "    plt.plot(monthly_sales.columns, monthly_sales.loc[outlet], marker='o', label=outlet)\n",
        "plt.xlabel('Month')\n",
        "plt.ylabel('Total Sales')\n",
        "plt.title('Monthly Sales Trend by Outlet')\n",
        "plt.legend(title='Outlet Identifier', bbox_to_anchor=(1.05, 1), loc='upper left')\n",
        "plt.xticks(range(1, 13))\n",
        "plt.tight_layout()\n",
        "plt.show()\n",
        "\n",
        "# Display monthly sales data\n",
        "print(\"Monthly Sales by Outlet:\")\n",
        "print(monthly_sales)"
      ]
    },
    {
      "cell_type": "markdown",
      "id": "e5322cf8",
      "metadata": {
        "id": "e5322cf8"
      },
      "source": [
        "---\n",
        "## 🔷 Scenario 3: Price Band Segmentation"
      ]
    },
    {
      "cell_type": "markdown",
      "id": "490f82a0",
      "metadata": {
        "id": "490f82a0"
      },
      "source": [
        "### Problem Statement\n",
        "Segment items into price bands and analyze sales pattern."
      ]
    },
    {
      "cell_type": "markdown",
      "id": "083a7b2e",
      "metadata": {
        "id": "083a7b2e"
      },
      "source": [
        "### 🧠 Instructions:\n",
        "1. Use `pd.cut()` or `pd.qcut()` to create bands\n",
        "2. Analyze sales by band\n",
        "3. Create a boxplot"
      ]
    },
    {
      "cell_type": "markdown",
      "id": "ca820574",
      "metadata": {
        "id": "ca820574"
      },
      "source": [
        "### ✍️ Your Task:"
      ]
    },
    {
      "cell_type": "code",
      "execution_count": null,
      "id": "2a009053",
      "metadata": {
        "id": "2a009053"
      },
      "outputs": [],
      "source": [
        "# Create price bands using pd.qcut (equal-sized bins based on quantiles)\n",
        "df['Price_Band'] = pd.qcut(df['Item_MRP'], q=4, labels=['Low', 'Medium', 'High', 'Very High'])\n",
        "\n",
        "# Analyze sales by price band\n",
        "sales_by_band = df.groupby('Price_Band')['Item_Outlet_Sales'].agg(['mean', 'sum', 'count']).reset_index()\n",
        "\n",
        "# Plot boxplot of sales by price band\n",
        "plt.figure(figsize=(10, 6))\n",
        "sns.boxplot(x='Price_Band', y='Item_Outlet_Sales', data=df, palette='Set2')\n",
        "plt.title('Sales Distribution by Price Band')\n",
        "plt.xlabel('Price Band')\n",
        "plt.ylabel('Item Outlet Sales')\n",
        "plt.show()\n",
        "\n",
        "# Display sales summary by price band\n",
        "print(\"Sales Summary by Price Band:\")\n",
        "print(sales_by_band)"
      ]
    },
    {
      "cell_type": "markdown",
      "id": "4453e002",
      "metadata": {
        "id": "4453e002"
      },
      "source": [
        "---\n",
        "## 🔷 Scenario 4: Stock Optimization Strategy"
      ]
    },
    {
      "cell_type": "markdown",
      "id": "7e478757",
      "metadata": {
        "id": "7e478757"
      },
      "source": [
        "### Problem Statement\n",
        "Evaluate items with high stock (weight) but low sales."
      ]
    },
    {
      "cell_type": "markdown",
      "id": "6ca8bf7a",
      "metadata": {
        "id": "6ca8bf7a"
      },
      "source": [
        "### 🧠 Instructions:\n",
        "1. Use `Item_Weight` to simulate stock volume\n",
        "2. Plot weight vs. sales as scatter"
      ]
    },
    {
      "cell_type": "markdown",
      "id": "356f44fe",
      "metadata": {
        "id": "356f44fe"
      },
      "source": [
        "### ✍️ Your Task:"
      ]
    },
    {
      "cell_type": "code",
      "execution_count": null,
      "id": "490d32aa",
      "metadata": {
        "id": "490d32aa"
      },
      "outputs": [],
      "source": [
        "# Handle missing Item_Weight by filling with mean\n",
        "df['Item_Weight'] = df['Item_Weight'].fillna(df['Item_Weight'].mean())\n",
        "\n",
        "# Plot scatter of Item_Weight vs Item_Outlet_Sales\n",
        "plt.figure(figsize=(10, 6))\n",
        "plt.scatter(df['Item_Weight'], df['Item_Outlet_Sales'], alpha=0.5, color='teal')\n",
        "plt.xlabel('Item Weight')\n",
        "plt.ylabel('Item Outlet Sales')\n",
        "plt.title('Item Weight vs Sales (Stock Analysis)')\n",
        "plt.axhline(y=df['Item_Outlet_Sales'].quantile(0.25), color='red', linestyle='--', label='Low Sales Threshold')\n",
        "plt.axvline(x=df['Item_Weight'].quantile(0.75), color='blue', linestyle='--', label='High Weight Threshold')\n",
        "plt.legend()\n",
        "plt.show()\n",
        "\n",
        "# Identify overstocked items (high weight, low sales)\n",
        "high_weight_threshold = df['Item_Weight'].quantile(0.75)\n",
        "low_sales_threshold = df['Item_Outlet_Sales'].quantile(0.25)\n",
        "overstocked = df[(df['Item_Weight'] > high_weight_threshold) & (df['Item_Outlet_Sales'] < low_sales_threshold)]\n",
        "\n",
        "# Display overstocked items\n",
        "print(\"Overstocked Items (High Weight, Low Sales):\")\n",
        "print(overstocked[['Item_Identifier', 'Item_Type', 'Item_Weight', 'Item_Outlet_Sales']].head())"
      ]
    },
    {
      "cell_type": "markdown",
      "id": "cf6be87a",
      "metadata": {
        "id": "cf6be87a"
      },
      "source": [
        "---\n",
        "## 🔷 Scenario 5: Correlation with Revenue"
      ]
    },
    {
      "cell_type": "markdown",
      "id": "0a12ab2e",
      "metadata": {
        "id": "0a12ab2e"
      },
      "source": [
        "### Problem Statement\n",
        "Find features highly correlated with sales."
      ]
    },
    {
      "cell_type": "markdown",
      "id": "5f138cb2",
      "metadata": {
        "id": "5f138cb2"
      },
      "source": [
        "### 🧠 Instructions:\n",
        "1. Use `df.corr()`\n",
        "2. Visualize heatmap\n",
        "3. List top 3 positive correlations"
      ]
    },
    {
      "cell_type": "markdown",
      "id": "21cae92d",
      "metadata": {
        "id": "21cae92d"
      },
      "source": [
        "### ✍️ Your Task:"
      ]
    },
    {
      "cell_type": "code",
      "execution_count": null,
      "id": "f9748195",
      "metadata": {
        "id": "f9748195"
      },
      "outputs": [],
      "source": [
        "# Select numeric columns for correlation\n",
        "numeric_cols = df.select_dtypes(include=['float64', 'int64']).columns\n",
        "corr_matrix = df[numeric_cols].corr()\n",
        "\n",
        "# Plot heatmap of correlations\n",
        "plt.figure(figsize=(10, 8))\n",
        "sns.heatmap(corr_matrix, annot=True, cmap='coolwarm', center=0)\n",
        "plt.title('Correlation Heatmap with Item Outlet Sales')\n",
        "plt.show()\n",
        "\n",
        "# Get correlations with Item_Outlet_Sales\n",
        "sales_corr = corr_matrix['Item_Outlet_Sales'].sort_values(ascending=False)\n",
        "top_3_correlations = sales_corr[1:4]  # Exclude self-correlation\n",
        "\n",
        "# Display top 3 positive correlations\n",
        "print(\"Top 3 Features Positively Correlated with Sales:\")\n",
        "print(top_3_correlations)"
      ]
    },
    {
      "cell_type": "markdown",
      "id": "bc11e605",
      "metadata": {
        "id": "bc11e605"
      },
      "source": [
        "---\n",
        "## 📌 Final Instructions:\n",
        "- Complete all 5 scenarios\n",
        "- Add comments explaining your steps\n",
        "- Each scenario should include at least 1 chart\n",
        "- Submit `.ipynb` with your analysis summary at the end"
      ]
    },
    {
      "cell_type": "markdown",
      "source": [
        "# Analysis Summary\n",
        "- **Product Performance**: Fruits and Vegetables, Snack Foods, and Household items contribute ~80% of revenue (Pareto principle). Underperformers include high-MRP items like certain snacks with low sales, suggesting pricing adjustments.\n",
        "- **Seasonal Insights**: Monthly sales trends vary by outlet; OUT027 shows consistent high performance, while OUT019 struggles. Peak months differ, indicating outlet-specific seasonality.\n",
        "- **Price Band Segmentation**: High and Very High price bands have higher average sales but more variability. Low-price items sell more units but generate less revenue per item.\n",
        "- **Stock Optimization**: Items with high weight (>75th percentile) and low sales (<25th percentile), like certain household products, are overstocked and should be reviewed.\n",
        "- **Correlation with Revenue**: Item_MRP has the strongest positive correlation with sales, followed by Item_Weight. Focus on optimizing pricing and stock levels for these features."
      ],
      "metadata": {
        "id": "E3EwNwRnlzg9"
      },
      "id": "E3EwNwRnlzg9"
    }
  ],
  "metadata": {
    "colab": {
      "provenance": []
    },
    "language_info": {
      "name": "python"
    },
    "kernelspec": {
      "name": "python3",
      "display_name": "Python 3"
    }
  },
  "nbformat": 4,
  "nbformat_minor": 5
}