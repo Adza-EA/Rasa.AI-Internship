{
 "cells": [
  {
   "cell_type": "code",
   "execution_count": 7,
   "id": "6ac7d34e-e4c1-487f-b07f-079290eda05f",
   "metadata": {},
   "outputs": [],
   "source": [
    "import pandas as pd"
   ]
  },
  {
   "cell_type": "code",
   "execution_count": 8,
   "id": "0d5a55b7-b949-468a-88a3-2a6c3f81cab6",
   "metadata": {},
   "outputs": [],
   "source": [
    "boom = pd.read_csv(\"C:/ADZA/Rasa.AI/Week 3/3/dataset/time_series.csv\")"
   ]
  },
  {
   "cell_type": "code",
   "execution_count": 9,
   "id": "ae608f09-e420-4a1f-b300-208bc3fa7cbc",
   "metadata": {},
   "outputs": [
    {
     "data": {
      "text/html": [
       "<div>\n",
       "<style scoped>\n",
       "    .dataframe tbody tr th:only-of-type {\n",
       "        vertical-align: middle;\n",
       "    }\n",
       "\n",
       "    .dataframe tbody tr th {\n",
       "        vertical-align: top;\n",
       "    }\n",
       "\n",
       "    .dataframe thead th {\n",
       "        text-align: right;\n",
       "    }\n",
       "</style>\n",
       "<table border=\"1\" class=\"dataframe\">\n",
       "  <thead>\n",
       "    <tr style=\"text-align: right;\">\n",
       "      <th></th>\n",
       "      <th>ID</th>\n",
       "      <th>Datetime</th>\n",
       "      <th>Count</th>\n",
       "    </tr>\n",
       "  </thead>\n",
       "  <tbody>\n",
       "    <tr>\n",
       "      <th>0</th>\n",
       "      <td>0</td>\n",
       "      <td>25-08-2012 00:00</td>\n",
       "      <td>8</td>\n",
       "    </tr>\n",
       "    <tr>\n",
       "      <th>1</th>\n",
       "      <td>1</td>\n",
       "      <td>25-08-2012 01:00</td>\n",
       "      <td>2</td>\n",
       "    </tr>\n",
       "    <tr>\n",
       "      <th>2</th>\n",
       "      <td>2</td>\n",
       "      <td>25-08-2012 02:00</td>\n",
       "      <td>6</td>\n",
       "    </tr>\n",
       "    <tr>\n",
       "      <th>3</th>\n",
       "      <td>3</td>\n",
       "      <td>25-08-2012 03:00</td>\n",
       "      <td>2</td>\n",
       "    </tr>\n",
       "    <tr>\n",
       "      <th>4</th>\n",
       "      <td>4</td>\n",
       "      <td>25-08-2012 04:00</td>\n",
       "      <td>2</td>\n",
       "    </tr>\n",
       "  </tbody>\n",
       "</table>\n",
       "</div>"
      ],
      "text/plain": [
       "   ID          Datetime  Count\n",
       "0   0  25-08-2012 00:00      8\n",
       "1   1  25-08-2012 01:00      2\n",
       "2   2  25-08-2012 02:00      6\n",
       "3   3  25-08-2012 03:00      2\n",
       "4   4  25-08-2012 04:00      2"
      ]
     },
     "execution_count": 9,
     "metadata": {},
     "output_type": "execute_result"
    }
   ],
   "source": [
    "boom.head()"
   ]
  },
  {
   "cell_type": "code",
   "execution_count": 10,
   "id": "570e6ef9-cb06-4cc1-a07f-c665c11a4bfd",
   "metadata": {},
   "outputs": [
    {
     "data": {
      "text/plain": [
       "ID           int64\n",
       "Datetime    object\n",
       "Count        int64\n",
       "dtype: object"
      ]
     },
     "execution_count": 10,
     "metadata": {},
     "output_type": "execute_result"
    }
   ],
   "source": [
    "boom.dtypes"
   ]
  },
  {
   "cell_type": "code",
   "execution_count": 11,
   "id": "09bfb70b-91ce-4690-ad32-60e0c9609cea",
   "metadata": {},
   "outputs": [],
   "source": [
    "df = pd.DataFrame(boom)"
   ]
  },
  {
   "cell_type": "code",
   "execution_count": 12,
   "id": "50c57a5a-0b67-4512-969e-8fd1373294a7",
   "metadata": {},
   "outputs": [
    {
     "name": "stderr",
     "output_type": "stream",
     "text": [
      "C:\\Users\\adzar\\AppData\\Local\\Temp\\ipykernel_24804\\2099222771.py:1: UserWarning: Parsing dates in %d-%m-%Y %H:%M format when dayfirst=False (the default) was specified. Pass `dayfirst=True` or specify a format to silence this warning.\n",
      "  df['Datetime'] = pd.to_datetime(df['Datetime'])\n"
     ]
    }
   ],
   "source": [
    "df['Datetime'] = pd.to_datetime(df['Datetime'])"
   ]
  },
  {
   "cell_type": "code",
   "execution_count": 13,
   "id": "c2d180ec-c66b-4df8-8dce-98f4de7ccacc",
   "metadata": {},
   "outputs": [
    {
     "data": {
      "text/plain": [
       "ID                   int64\n",
       "Datetime    datetime64[ns]\n",
       "Count                int64\n",
       "dtype: object"
      ]
     },
     "execution_count": 13,
     "metadata": {},
     "output_type": "execute_result"
    }
   ],
   "source": [
    "df.dtypes"
   ]
  },
  {
   "cell_type": "code",
   "execution_count": 15,
   "id": "478e919f-e948-4160-936c-1579b07b2f55",
   "metadata": {},
   "outputs": [],
   "source": [
    "# Create new features\n",
    "df['Day_of_Month'] = df['Datetime'].dt.day\n",
    "df['Month'] = df['Datetime'].dt.month\n",
    "df['Day_of_Year'] = df['Datetime'].dt.dayofyear\n",
    "df['Hour'] = df['Datetime'].dt.hour"
   ]
  },
  {
   "cell_type": "code",
   "execution_count": 16,
   "id": "81d7f289-cd80-494a-a4d0-b712e7e5d1f2",
   "metadata": {},
   "outputs": [
    {
     "data": {
      "text/html": [
       "<div>\n",
       "<style scoped>\n",
       "    .dataframe tbody tr th:only-of-type {\n",
       "        vertical-align: middle;\n",
       "    }\n",
       "\n",
       "    .dataframe tbody tr th {\n",
       "        vertical-align: top;\n",
       "    }\n",
       "\n",
       "    .dataframe thead th {\n",
       "        text-align: right;\n",
       "    }\n",
       "</style>\n",
       "<table border=\"1\" class=\"dataframe\">\n",
       "  <thead>\n",
       "    <tr style=\"text-align: right;\">\n",
       "      <th></th>\n",
       "      <th>ID</th>\n",
       "      <th>Datetime</th>\n",
       "      <th>Count</th>\n",
       "      <th>Day_of_Month</th>\n",
       "      <th>Month</th>\n",
       "      <th>Day_of_Year</th>\n",
       "      <th>Hour</th>\n",
       "    </tr>\n",
       "  </thead>\n",
       "  <tbody>\n",
       "    <tr>\n",
       "      <th>0</th>\n",
       "      <td>0</td>\n",
       "      <td>2012-08-25 00:00:00</td>\n",
       "      <td>8</td>\n",
       "      <td>25</td>\n",
       "      <td>8</td>\n",
       "      <td>238</td>\n",
       "      <td>0</td>\n",
       "    </tr>\n",
       "    <tr>\n",
       "      <th>1</th>\n",
       "      <td>1</td>\n",
       "      <td>2012-08-25 01:00:00</td>\n",
       "      <td>2</td>\n",
       "      <td>25</td>\n",
       "      <td>8</td>\n",
       "      <td>238</td>\n",
       "      <td>1</td>\n",
       "    </tr>\n",
       "    <tr>\n",
       "      <th>2</th>\n",
       "      <td>2</td>\n",
       "      <td>2012-08-25 02:00:00</td>\n",
       "      <td>6</td>\n",
       "      <td>25</td>\n",
       "      <td>8</td>\n",
       "      <td>238</td>\n",
       "      <td>2</td>\n",
       "    </tr>\n",
       "    <tr>\n",
       "      <th>3</th>\n",
       "      <td>3</td>\n",
       "      <td>2012-08-25 03:00:00</td>\n",
       "      <td>2</td>\n",
       "      <td>25</td>\n",
       "      <td>8</td>\n",
       "      <td>238</td>\n",
       "      <td>3</td>\n",
       "    </tr>\n",
       "    <tr>\n",
       "      <th>4</th>\n",
       "      <td>4</td>\n",
       "      <td>2012-08-25 04:00:00</td>\n",
       "      <td>2</td>\n",
       "      <td>25</td>\n",
       "      <td>8</td>\n",
       "      <td>238</td>\n",
       "      <td>4</td>\n",
       "    </tr>\n",
       "  </tbody>\n",
       "</table>\n",
       "</div>"
      ],
      "text/plain": [
       "   ID            Datetime  Count  Day_of_Month  Month  Day_of_Year  Hour\n",
       "0   0 2012-08-25 00:00:00      8            25      8          238     0\n",
       "1   1 2012-08-25 01:00:00      2            25      8          238     1\n",
       "2   2 2012-08-25 02:00:00      6            25      8          238     2\n",
       "3   3 2012-08-25 03:00:00      2            25      8          238     3\n",
       "4   4 2012-08-25 04:00:00      2            25      8          238     4"
      ]
     },
     "execution_count": 16,
     "metadata": {},
     "output_type": "execute_result"
    }
   ],
   "source": [
    "df.head()"
   ]
  },
  {
   "cell_type": "code",
   "execution_count": 21,
   "id": "8ebfe1b0-39fe-4589-b465-eee2db97c54c",
   "metadata": {},
   "outputs": [
    {
     "data": {
      "text/html": [
       "<div>\n",
       "<style scoped>\n",
       "    .dataframe tbody tr th:only-of-type {\n",
       "        vertical-align: middle;\n",
       "    }\n",
       "\n",
       "    .dataframe tbody tr th {\n",
       "        vertical-align: top;\n",
       "    }\n",
       "\n",
       "    .dataframe thead th {\n",
       "        text-align: right;\n",
       "    }\n",
       "</style>\n",
       "<table border=\"1\" class=\"dataframe\">\n",
       "  <thead>\n",
       "    <tr style=\"text-align: right;\">\n",
       "      <th></th>\n",
       "      <th>id</th>\n",
       "      <th>name</th>\n",
       "      <th>marks</th>\n",
       "    </tr>\n",
       "  </thead>\n",
       "  <tbody>\n",
       "    <tr>\n",
       "      <th>0</th>\n",
       "      <td>1</td>\n",
       "      <td>Akash</td>\n",
       "      <td>22</td>\n",
       "    </tr>\n",
       "    <tr>\n",
       "      <th>1</th>\n",
       "      <td>2</td>\n",
       "      <td>Akansha</td>\n",
       "      <td>23</td>\n",
       "    </tr>\n",
       "    <tr>\n",
       "      <th>2</th>\n",
       "      <td>3</td>\n",
       "      <td>Naman</td>\n",
       "      <td>43</td>\n",
       "    </tr>\n",
       "    <tr>\n",
       "      <th>3</th>\n",
       "      <td>4</td>\n",
       "      <td>Pulkit</td>\n",
       "      <td>41</td>\n",
       "    </tr>\n",
       "    <tr>\n",
       "      <th>4</th>\n",
       "      <td>5</td>\n",
       "      <td>Anand</td>\n",
       "      <td>12</td>\n",
       "    </tr>\n",
       "  </tbody>\n",
       "</table>\n",
       "</div>"
      ],
      "text/plain": [
       "   id     name  marks\n",
       "0   1    Akash     22\n",
       "1   2  Akansha     23\n",
       "2   3    Naman     43\n",
       "3   4   Pulkit     41\n",
       "4   5    Anand     12"
      ]
     },
     "execution_count": 21,
     "metadata": {},
     "output_type": "execute_result"
    }
   ],
   "source": [
    "sample_df = pd.DataFrame({\n",
    "    'id'   :  [1, 2, 3, 4, 5],\n",
    "    'name' :  [ 'Akash', 'Akansha', 'Naman', 'Pulkit', 'Anand'],\n",
    "    'marks':  [ 22, 23, 43, 41, 12]\n",
    "})\n",
    "sample_df"
   ]
  },
  {
   "cell_type": "code",
   "execution_count": 22,
   "id": "cf72bc62-0ccc-4831-b4cb-74d00828d66a",
   "metadata": {},
   "outputs": [],
   "source": [
    "sample_df_1 = sample_df.sort_values(by='marks', ascending=False)"
   ]
  },
  {
   "cell_type": "code",
   "execution_count": 23,
   "id": "ff1fb11e-0bf0-48d7-a8e2-bd5696e517fc",
   "metadata": {},
   "outputs": [
    {
     "data": {
      "text/html": [
       "<div>\n",
       "<style scoped>\n",
       "    .dataframe tbody tr th:only-of-type {\n",
       "        vertical-align: middle;\n",
       "    }\n",
       "\n",
       "    .dataframe tbody tr th {\n",
       "        vertical-align: top;\n",
       "    }\n",
       "\n",
       "    .dataframe thead th {\n",
       "        text-align: right;\n",
       "    }\n",
       "</style>\n",
       "<table border=\"1\" class=\"dataframe\">\n",
       "  <thead>\n",
       "    <tr style=\"text-align: right;\">\n",
       "      <th></th>\n",
       "      <th>id</th>\n",
       "      <th>name</th>\n",
       "      <th>marks</th>\n",
       "    </tr>\n",
       "  </thead>\n",
       "  <tbody>\n",
       "    <tr>\n",
       "      <th>2</th>\n",
       "      <td>3</td>\n",
       "      <td>Naman</td>\n",
       "      <td>43</td>\n",
       "    </tr>\n",
       "    <tr>\n",
       "      <th>3</th>\n",
       "      <td>4</td>\n",
       "      <td>Pulkit</td>\n",
       "      <td>41</td>\n",
       "    </tr>\n",
       "    <tr>\n",
       "      <th>1</th>\n",
       "      <td>2</td>\n",
       "      <td>Akansha</td>\n",
       "      <td>23</td>\n",
       "    </tr>\n",
       "    <tr>\n",
       "      <th>0</th>\n",
       "      <td>1</td>\n",
       "      <td>Akash</td>\n",
       "      <td>22</td>\n",
       "    </tr>\n",
       "    <tr>\n",
       "      <th>4</th>\n",
       "      <td>5</td>\n",
       "      <td>Anand</td>\n",
       "      <td>12</td>\n",
       "    </tr>\n",
       "  </tbody>\n",
       "</table>\n",
       "</div>"
      ],
      "text/plain": [
       "   id     name  marks\n",
       "2   3    Naman     43\n",
       "3   4   Pulkit     41\n",
       "1   2  Akansha     23\n",
       "0   1    Akash     22\n",
       "4   5    Anand     12"
      ]
     },
     "execution_count": 23,
     "metadata": {},
     "output_type": "execute_result"
    }
   ],
   "source": [
    "sample_df_1"
   ]
  },
  {
   "cell_type": "code",
   "execution_count": 24,
   "id": "b9201384-4d56-49c4-aa60-40246b387e45",
   "metadata": {},
   "outputs": [
    {
     "data": {
      "text/html": [
       "<div>\n",
       "<style scoped>\n",
       "    .dataframe tbody tr th:only-of-type {\n",
       "        vertical-align: middle;\n",
       "    }\n",
       "\n",
       "    .dataframe tbody tr th {\n",
       "        vertical-align: top;\n",
       "    }\n",
       "\n",
       "    .dataframe thead th {\n",
       "        text-align: right;\n",
       "    }\n",
       "</style>\n",
       "<table border=\"1\" class=\"dataframe\">\n",
       "  <thead>\n",
       "    <tr style=\"text-align: right;\">\n",
       "      <th></th>\n",
       "      <th>name</th>\n",
       "      <th>city</th>\n",
       "    </tr>\n",
       "  </thead>\n",
       "  <tbody>\n",
       "    <tr>\n",
       "      <th>0</th>\n",
       "      <td>Akash</td>\n",
       "      <td>Delhi</td>\n",
       "    </tr>\n",
       "    <tr>\n",
       "      <th>1</th>\n",
       "      <td>Akansha</td>\n",
       "      <td>Gurugram</td>\n",
       "    </tr>\n",
       "    <tr>\n",
       "      <th>2</th>\n",
       "      <td>Pulkit</td>\n",
       "      <td>Gurugram</td>\n",
       "    </tr>\n",
       "    <tr>\n",
       "      <th>3</th>\n",
       "      <td>Anand</td>\n",
       "      <td>Delhi</td>\n",
       "    </tr>\n",
       "    <tr>\n",
       "      <th>4</th>\n",
       "      <td>Naman</td>\n",
       "      <td>Noida</td>\n",
       "    </tr>\n",
       "  </tbody>\n",
       "</table>\n",
       "</div>"
      ],
      "text/plain": [
       "      name      city\n",
       "0    Akash     Delhi\n",
       "1  Akansha  Gurugram\n",
       "2   Pulkit  Gurugram\n",
       "3    Anand     Delhi\n",
       "4    Naman     Noida"
      ]
     },
     "execution_count": 24,
     "metadata": {},
     "output_type": "execute_result"
    }
   ],
   "source": [
    "city = pd.DataFrame({\n",
    "    'name' : ['Akash', 'Akansha', 'Pulkit', 'Anand', 'Naman'],\n",
    "    'city' : ['Delhi', 'Gurugram', 'Gurugram', 'Delhi', 'Noida']\n",
    "})\n",
    "city"
   ]
  },
  {
   "cell_type": "code",
   "execution_count": 25,
   "id": "34c132db-bb25-4790-a2a7-49f159835080",
   "metadata": {},
   "outputs": [],
   "source": [
    "# Merge the two DataFrames on 'name'\n",
    "merged_df = pd.merge(sample_df, city, on='name')\n",
    "\n",
    "# Filter students who live in Gurugram\n",
    "gurugram_students = merged_df[merged_df['city'] == 'Gurugram'][['name', 'marks']]"
   ]
  },
  {
   "cell_type": "code",
   "execution_count": 26,
   "id": "d753f5d8-4992-4327-b287-d3f044bba804",
   "metadata": {},
   "outputs": [
    {
     "data": {
      "text/html": [
       "<div>\n",
       "<style scoped>\n",
       "    .dataframe tbody tr th:only-of-type {\n",
       "        vertical-align: middle;\n",
       "    }\n",
       "\n",
       "    .dataframe tbody tr th {\n",
       "        vertical-align: top;\n",
       "    }\n",
       "\n",
       "    .dataframe thead th {\n",
       "        text-align: right;\n",
       "    }\n",
       "</style>\n",
       "<table border=\"1\" class=\"dataframe\">\n",
       "  <thead>\n",
       "    <tr style=\"text-align: right;\">\n",
       "      <th></th>\n",
       "      <th>name</th>\n",
       "      <th>marks</th>\n",
       "    </tr>\n",
       "  </thead>\n",
       "  <tbody>\n",
       "    <tr>\n",
       "      <th>1</th>\n",
       "      <td>Akansha</td>\n",
       "      <td>23</td>\n",
       "    </tr>\n",
       "    <tr>\n",
       "      <th>3</th>\n",
       "      <td>Pulkit</td>\n",
       "      <td>41</td>\n",
       "    </tr>\n",
       "  </tbody>\n",
       "</table>\n",
       "</div>"
      ],
      "text/plain": [
       "      name  marks\n",
       "1  Akansha     23\n",
       "3   Pulkit     41"
      ]
     },
     "execution_count": 26,
     "metadata": {},
     "output_type": "execute_result"
    }
   ],
   "source": [
    "gurugram_students"
   ]
  },
  {
   "cell_type": "code",
   "execution_count": 37,
   "id": "79d2e7a9-1cea-4fb8-8317-bb58b1e1f71a",
   "metadata": {},
   "outputs": [],
   "source": [
    "mart = pd.read_csv(\"C:/ADZA/Rasa.AI/Week 3/2/big_mart_sales.csv\")"
   ]
  },
  {
   "cell_type": "code",
   "execution_count": 38,
   "id": "d20d6922-6b3d-427b-ae9f-25e1f9d4426d",
   "metadata": {},
   "outputs": [],
   "source": [
    "mart_df = pd.DataFrame(mart)"
   ]
  },
  {
   "cell_type": "code",
   "execution_count": 39,
   "id": "b6e24c1d-bdb5-4601-85f7-38b19ad97d1e",
   "metadata": {},
   "outputs": [
    {
     "data": {
      "text/html": [
       "<div>\n",
       "<style scoped>\n",
       "    .dataframe tbody tr th:only-of-type {\n",
       "        vertical-align: middle;\n",
       "    }\n",
       "\n",
       "    .dataframe tbody tr th {\n",
       "        vertical-align: top;\n",
       "    }\n",
       "\n",
       "    .dataframe thead th {\n",
       "        text-align: right;\n",
       "    }\n",
       "</style>\n",
       "<table border=\"1\" class=\"dataframe\">\n",
       "  <thead>\n",
       "    <tr style=\"text-align: right;\">\n",
       "      <th></th>\n",
       "      <th>Item_Identifier</th>\n",
       "      <th>Item_Weight</th>\n",
       "      <th>Item_Fat_Content</th>\n",
       "      <th>Item_Visibility</th>\n",
       "      <th>Item_Type</th>\n",
       "      <th>Item_MRP</th>\n",
       "      <th>Outlet_Identifier</th>\n",
       "      <th>Outlet_Establishment_Year</th>\n",
       "      <th>Outlet_Size</th>\n",
       "      <th>Outlet_Location_Type</th>\n",
       "      <th>Outlet_Type</th>\n",
       "      <th>Item_Outlet_Sales</th>\n",
       "    </tr>\n",
       "  </thead>\n",
       "  <tbody>\n",
       "    <tr>\n",
       "      <th>0</th>\n",
       "      <td>FDA15</td>\n",
       "      <td>9.30</td>\n",
       "      <td>Low Fat</td>\n",
       "      <td>0.016047</td>\n",
       "      <td>Dairy</td>\n",
       "      <td>249.8092</td>\n",
       "      <td>OUT049</td>\n",
       "      <td>1999</td>\n",
       "      <td>Medium</td>\n",
       "      <td>Tier 1</td>\n",
       "      <td>Supermarket Type1</td>\n",
       "      <td>3735.1380</td>\n",
       "    </tr>\n",
       "    <tr>\n",
       "      <th>1</th>\n",
       "      <td>DRC01</td>\n",
       "      <td>5.92</td>\n",
       "      <td>Regular</td>\n",
       "      <td>0.019278</td>\n",
       "      <td>Soft Drinks</td>\n",
       "      <td>48.2692</td>\n",
       "      <td>OUT018</td>\n",
       "      <td>2009</td>\n",
       "      <td>Medium</td>\n",
       "      <td>Tier 3</td>\n",
       "      <td>Supermarket Type2</td>\n",
       "      <td>443.4228</td>\n",
       "    </tr>\n",
       "    <tr>\n",
       "      <th>2</th>\n",
       "      <td>FDN15</td>\n",
       "      <td>17.50</td>\n",
       "      <td>Low Fat</td>\n",
       "      <td>0.016760</td>\n",
       "      <td>Meat</td>\n",
       "      <td>141.6180</td>\n",
       "      <td>OUT049</td>\n",
       "      <td>1999</td>\n",
       "      <td>Medium</td>\n",
       "      <td>Tier 1</td>\n",
       "      <td>Supermarket Type1</td>\n",
       "      <td>2097.2700</td>\n",
       "    </tr>\n",
       "    <tr>\n",
       "      <th>3</th>\n",
       "      <td>FDX07</td>\n",
       "      <td>19.20</td>\n",
       "      <td>Regular</td>\n",
       "      <td>0.000000</td>\n",
       "      <td>Fruits and Vegetables</td>\n",
       "      <td>182.0950</td>\n",
       "      <td>OUT010</td>\n",
       "      <td>1998</td>\n",
       "      <td>NaN</td>\n",
       "      <td>Tier 3</td>\n",
       "      <td>Grocery Store</td>\n",
       "      <td>732.3800</td>\n",
       "    </tr>\n",
       "    <tr>\n",
       "      <th>4</th>\n",
       "      <td>NCD19</td>\n",
       "      <td>8.93</td>\n",
       "      <td>Low Fat</td>\n",
       "      <td>0.000000</td>\n",
       "      <td>Household</td>\n",
       "      <td>53.8614</td>\n",
       "      <td>OUT013</td>\n",
       "      <td>1987</td>\n",
       "      <td>High</td>\n",
       "      <td>Tier 3</td>\n",
       "      <td>Supermarket Type1</td>\n",
       "      <td>994.7052</td>\n",
       "    </tr>\n",
       "  </tbody>\n",
       "</table>\n",
       "</div>"
      ],
      "text/plain": [
       "  Item_Identifier  Item_Weight Item_Fat_Content  Item_Visibility  \\\n",
       "0           FDA15         9.30          Low Fat         0.016047   \n",
       "1           DRC01         5.92          Regular         0.019278   \n",
       "2           FDN15        17.50          Low Fat         0.016760   \n",
       "3           FDX07        19.20          Regular         0.000000   \n",
       "4           NCD19         8.93          Low Fat         0.000000   \n",
       "\n",
       "               Item_Type  Item_MRP Outlet_Identifier  \\\n",
       "0                  Dairy  249.8092            OUT049   \n",
       "1            Soft Drinks   48.2692            OUT018   \n",
       "2                   Meat  141.6180            OUT049   \n",
       "3  Fruits and Vegetables  182.0950            OUT010   \n",
       "4              Household   53.8614            OUT013   \n",
       "\n",
       "   Outlet_Establishment_Year Outlet_Size Outlet_Location_Type  \\\n",
       "0                       1999      Medium               Tier 1   \n",
       "1                       2009      Medium               Tier 3   \n",
       "2                       1999      Medium               Tier 1   \n",
       "3                       1998         NaN               Tier 3   \n",
       "4                       1987        High               Tier 3   \n",
       "\n",
       "         Outlet_Type  Item_Outlet_Sales  \n",
       "0  Supermarket Type1          3735.1380  \n",
       "1  Supermarket Type2           443.4228  \n",
       "2  Supermarket Type1          2097.2700  \n",
       "3      Grocery Store           732.3800  \n",
       "4  Supermarket Type1           994.7052  "
      ]
     },
     "execution_count": 39,
     "metadata": {},
     "output_type": "execute_result"
    }
   ],
   "source": [
    "mart_df.head()"
   ]
  },
  {
   "cell_type": "code",
   "execution_count": 40,
   "id": "3a178fa3-fe1b-4a46-a156-202fdc6765df",
   "metadata": {},
   "outputs": [
    {
     "data": {
      "text/plain": [
       "Item_Identifier              1559\n",
       "Item_Weight                   415\n",
       "Item_Fat_Content                5\n",
       "Item_Visibility              7880\n",
       "Item_Type                      16\n",
       "Item_MRP                     5938\n",
       "Outlet_Identifier              10\n",
       "Outlet_Establishment_Year       9\n",
       "Outlet_Size                     3\n",
       "Outlet_Location_Type            3\n",
       "Outlet_Type                     4\n",
       "Item_Outlet_Sales            3493\n",
       "dtype: int64"
      ]
     },
     "execution_count": 40,
     "metadata": {},
     "output_type": "execute_result"
    }
   ],
   "source": [
    "# Count unique values in each column\n",
    "unique_counts = mart_df.nunique()\n",
    "unique_counts"
   ]
  },
  {
   "cell_type": "code",
   "execution_count": 41,
   "id": "378f0a4a-35bb-4663-98d2-fbcfeb91934d",
   "metadata": {},
   "outputs": [],
   "source": [
    "# Group by 'Outlet_Identifier' and count unique values in 'Item_Type'\n",
    "unique_item_counts = mart_df.groupby('Outlet_Identifier')['Item_Type'].nunique().reset_index()\n",
    "\n",
    "# Rename the columns for clarity\n",
    "unique_item_counts.columns = ['Outlet_Identifier', 'Unique_Item_Types']"
   ]
  },
  {
   "cell_type": "code",
   "execution_count": 42,
   "id": "d660d07b-99e4-4842-a088-137c6275ab35",
   "metadata": {},
   "outputs": [
    {
     "data": {
      "text/html": [
       "<div>\n",
       "<style scoped>\n",
       "    .dataframe tbody tr th:only-of-type {\n",
       "        vertical-align: middle;\n",
       "    }\n",
       "\n",
       "    .dataframe tbody tr th {\n",
       "        vertical-align: top;\n",
       "    }\n",
       "\n",
       "    .dataframe thead th {\n",
       "        text-align: right;\n",
       "    }\n",
       "</style>\n",
       "<table border=\"1\" class=\"dataframe\">\n",
       "  <thead>\n",
       "    <tr style=\"text-align: right;\">\n",
       "      <th></th>\n",
       "      <th>Outlet_Identifier</th>\n",
       "      <th>Unique_Item_Types</th>\n",
       "    </tr>\n",
       "  </thead>\n",
       "  <tbody>\n",
       "    <tr>\n",
       "      <th>0</th>\n",
       "      <td>OUT010</td>\n",
       "      <td>16</td>\n",
       "    </tr>\n",
       "    <tr>\n",
       "      <th>1</th>\n",
       "      <td>OUT013</td>\n",
       "      <td>16</td>\n",
       "    </tr>\n",
       "    <tr>\n",
       "      <th>2</th>\n",
       "      <td>OUT017</td>\n",
       "      <td>16</td>\n",
       "    </tr>\n",
       "    <tr>\n",
       "      <th>3</th>\n",
       "      <td>OUT018</td>\n",
       "      <td>16</td>\n",
       "    </tr>\n",
       "    <tr>\n",
       "      <th>4</th>\n",
       "      <td>OUT019</td>\n",
       "      <td>16</td>\n",
       "    </tr>\n",
       "    <tr>\n",
       "      <th>5</th>\n",
       "      <td>OUT027</td>\n",
       "      <td>16</td>\n",
       "    </tr>\n",
       "    <tr>\n",
       "      <th>6</th>\n",
       "      <td>OUT035</td>\n",
       "      <td>16</td>\n",
       "    </tr>\n",
       "    <tr>\n",
       "      <th>7</th>\n",
       "      <td>OUT045</td>\n",
       "      <td>16</td>\n",
       "    </tr>\n",
       "    <tr>\n",
       "      <th>8</th>\n",
       "      <td>OUT046</td>\n",
       "      <td>16</td>\n",
       "    </tr>\n",
       "    <tr>\n",
       "      <th>9</th>\n",
       "      <td>OUT049</td>\n",
       "      <td>16</td>\n",
       "    </tr>\n",
       "  </tbody>\n",
       "</table>\n",
       "</div>"
      ],
      "text/plain": [
       "  Outlet_Identifier  Unique_Item_Types\n",
       "0            OUT010                 16\n",
       "1            OUT013                 16\n",
       "2            OUT017                 16\n",
       "3            OUT018                 16\n",
       "4            OUT019                 16\n",
       "5            OUT027                 16\n",
       "6            OUT035                 16\n",
       "7            OUT045                 16\n",
       "8            OUT046                 16\n",
       "9            OUT049                 16"
      ]
     },
     "execution_count": 42,
     "metadata": {},
     "output_type": "execute_result"
    }
   ],
   "source": [
    "unique_item_counts"
   ]
  },
  {
   "cell_type": "code",
   "execution_count": 43,
   "id": "be59969d-88f0-424b-8a3d-23d706abede6",
   "metadata": {},
   "outputs": [],
   "source": [
    "import numpy as np"
   ]
  },
  {
   "cell_type": "code",
   "execution_count": 45,
   "id": "cdf64eaa-2281-484d-87c3-d4b5234c777e",
   "metadata": {},
   "outputs": [
    {
     "name": "stdout",
     "output_type": "stream",
     "text": [
      "  Outlet_Size  Average_Item_Outlet_Sales\n",
      "0        High                2298.995256\n",
      "1      Medium                2681.603542\n",
      "2       Small                1912.149161\n"
     ]
    }
   ],
   "source": [
    "# Group by 'Outlet_Size' and calculate mean of 'Item_Outlet_Sales'\n",
    "avg_sales_by_size = mart_df.groupby('Outlet_Size')['Item_Outlet_Sales'].mean().reset_index()\n",
    "\n",
    "# Rename columns for clarity (optional)\n",
    "avg_sales_by_size.columns = ['Outlet_Size', 'Average_Item_Outlet_Sales']\n",
    "\n",
    "# Display result\n",
    "print(avg_sales_by_size)"
   ]
  },
  {
   "cell_type": "code",
   "execution_count": 51,
   "id": "e6b86d09-bf2d-474a-9e3e-b9a0d7cbd6e5",
   "metadata": {},
   "outputs": [],
   "source": [
    "# Select only categorical columns\n",
    "categorical_df = mart_df.select_dtypes(include=['object'])\n",
    "\n",
    "# Convert categorical variables to dummy/indicator variables\n",
    "categorical_dummies = pd.get_dummies(categorical_df, drop_first=True)\n",
    "\n",
    "categorical_dummies = categorical_dummies.astype(int)"
   ]
  },
  {
   "cell_type": "code",
   "execution_count": 52,
   "id": "a0f5db55-3fcf-46cc-8c06-498bc3f93204",
   "metadata": {},
   "outputs": [
    {
     "name": "stdout",
     "output_type": "stream",
     "text": [
      "   Item_Identifier_DRA24  Item_Identifier_DRA59  Item_Identifier_DRB01  \\\n",
      "0                      0                      0                      0   \n",
      "1                      0                      0                      0   \n",
      "2                      0                      0                      0   \n",
      "3                      0                      0                      0   \n",
      "4                      0                      0                      0   \n",
      "\n",
      "   Item_Identifier_DRB13  Item_Identifier_DRB24  Item_Identifier_DRB25  \\\n",
      "0                      0                      0                      0   \n",
      "1                      0                      0                      0   \n",
      "2                      0                      0                      0   \n",
      "3                      0                      0                      0   \n",
      "4                      0                      0                      0   \n",
      "\n",
      "   Item_Identifier_DRB48  Item_Identifier_DRC01  Item_Identifier_DRC12  \\\n",
      "0                      0                      0                      0   \n",
      "1                      0                      1                      0   \n",
      "2                      0                      0                      0   \n",
      "3                      0                      0                      0   \n",
      "4                      0                      0                      0   \n",
      "\n",
      "   Item_Identifier_DRC13  ...  Outlet_Identifier_OUT045  \\\n",
      "0                      0  ...                         0   \n",
      "1                      0  ...                         0   \n",
      "2                      0  ...                         0   \n",
      "3                      0  ...                         0   \n",
      "4                      0  ...                         0   \n",
      "\n",
      "   Outlet_Identifier_OUT046  Outlet_Identifier_OUT049  Outlet_Size_Medium  \\\n",
      "0                         0                         1                   1   \n",
      "1                         0                         0                   1   \n",
      "2                         0                         1                   1   \n",
      "3                         0                         0                   0   \n",
      "4                         0                         0                   0   \n",
      "\n",
      "   Outlet_Size_Small  Outlet_Location_Type_Tier 2  \\\n",
      "0                  0                            0   \n",
      "1                  0                            0   \n",
      "2                  0                            0   \n",
      "3                  0                            0   \n",
      "4                  0                            0   \n",
      "\n",
      "   Outlet_Location_Type_Tier 3  Outlet_Type_Supermarket Type1  \\\n",
      "0                            0                              1   \n",
      "1                            1                              0   \n",
      "2                            0                              1   \n",
      "3                            1                              0   \n",
      "4                            1                              1   \n",
      "\n",
      "   Outlet_Type_Supermarket Type2  Outlet_Type_Supermarket Type3  \n",
      "0                              0                              0  \n",
      "1                              1                              0  \n",
      "2                              0                              0  \n",
      "3                              0                              0  \n",
      "4                              0                              0  \n",
      "\n",
      "[5 rows x 1593 columns]\n"
     ]
    }
   ],
   "source": [
    "# Display the transformed DataFrame\n",
    "print(categorical_dummies.head())"
   ]
  },
  {
   "cell_type": "code",
   "execution_count": null,
   "id": "1fea7a54-8e35-41be-929e-4282d277bca3",
   "metadata": {},
   "outputs": [],
   "source": []
  }
 ],
 "metadata": {
  "kernelspec": {
   "display_name": "Python 3 (ipykernel)",
   "language": "python",
   "name": "python3"
  },
  "language_info": {
   "codemirror_mode": {
    "name": "ipython",
    "version": 3
   },
   "file_extension": ".py",
   "mimetype": "text/x-python",
   "name": "python",
   "nbconvert_exporter": "python",
   "pygments_lexer": "ipython3",
   "version": "3.11.4"
  }
 },
 "nbformat": 4,
 "nbformat_minor": 5
}
